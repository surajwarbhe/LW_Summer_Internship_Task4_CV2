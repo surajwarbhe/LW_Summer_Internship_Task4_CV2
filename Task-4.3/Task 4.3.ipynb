{
 "cells": [
  {
   "cell_type": "markdown",
   "id": "4716c9f1",
   "metadata": {},
   "source": [
    "# Collage Program"
   ]
  },
  {
   "cell_type": "code",
   "execution_count": 1,
   "id": "ca2a08ab",
   "metadata": {},
   "outputs": [],
   "source": [
    "import cv2\n",
    "import numpy as np"
   ]
  },
  {
   "cell_type": "code",
   "execution_count": 2,
   "id": "26055b1e",
   "metadata": {},
   "outputs": [],
   "source": [
    "#import bird 1 image\n",
    "img1 = cv2.imread('Bird1.jpg')\n",
    "cv2.imshow(\"Bird1\" , img1)\n",
    "cv2.waitKey()\n",
    "cv2.destroyAllWindows()"
   ]
  },
  {
   "cell_type": "code",
   "execution_count": 3,
   "id": "8e347008",
   "metadata": {},
   "outputs": [],
   "source": [
    "#import bird 2 image\n",
    "img2 = cv2.imread('Bird2.jpg')\n",
    "cv2.imshow(\"Bird2\" , img2)\n",
    "cv2.waitKey()\n",
    "cv2.destroyAllWindows()"
   ]
  },
  {
   "cell_type": "code",
   "execution_count": 4,
   "id": "c525deb6",
   "metadata": {},
   "outputs": [
    {
     "data": {
      "text/plain": [
       "(812, 708, 3)"
      ]
     },
     "execution_count": 4,
     "metadata": {},
     "output_type": "execute_result"
    }
   ],
   "source": [
    "img1.shape"
   ]
  },
  {
   "cell_type": "code",
   "execution_count": 5,
   "id": "5fbcacb7",
   "metadata": {},
   "outputs": [
    {
     "data": {
      "text/plain": [
       "(812, 720, 3)"
      ]
     },
     "execution_count": 5,
     "metadata": {},
     "output_type": "execute_result"
    }
   ],
   "source": [
    "img2.shape"
   ]
  },
  {
   "cell_type": "code",
   "execution_count": 6,
   "id": "82f049de",
   "metadata": {},
   "outputs": [],
   "source": [
    "#Collage\n",
    "collage = np.concatenate((img1, img2), axis=1)"
   ]
  },
  {
   "cell_type": "code",
   "execution_count": 7,
   "id": "7bd2edcf",
   "metadata": {},
   "outputs": [],
   "source": [
    "cv2.imshow(\"Collage\" , collage)\n",
    "cv2.waitKey()\n",
    "cv2.destroyAllWindows()"
   ]
  },
  {
   "cell_type": "code",
   "execution_count": null,
   "id": "d0def5fa",
   "metadata": {},
   "outputs": [],
   "source": []
  }
 ],
 "metadata": {
  "kernelspec": {
   "display_name": "Python 3",
   "language": "python",
   "name": "python3"
  },
  "language_info": {
   "codemirror_mode": {
    "name": "ipython",
    "version": 3
   },
   "file_extension": ".py",
   "mimetype": "text/x-python",
   "name": "python",
   "nbconvert_exporter": "python",
   "pygments_lexer": "ipython3",
   "version": "3.8.8"
  }
 },
 "nbformat": 4,
 "nbformat_minor": 5
}
