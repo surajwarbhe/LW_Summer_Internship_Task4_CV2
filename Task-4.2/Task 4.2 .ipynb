{
 "cells": [
  {
   "cell_type": "markdown",
   "id": "6e31951c",
   "metadata": {},
   "source": [
    "# Face swapping program"
   ]
  },
  {
   "cell_type": "code",
   "execution_count": 1,
   "id": "597749b1",
   "metadata": {},
   "outputs": [],
   "source": [
    "import cv2 "
   ]
  },
  {
   "cell_type": "code",
   "execution_count": 3,
   "id": "a84ce7c3",
   "metadata": {},
   "outputs": [],
   "source": [
    "#Import Motu image\n",
    "img1 = cv2.imread(\"Motu.png\")\n",
    "\n",
    "#Import Patlu image\n",
    "img2 = cv2.imread(\"Patlu.png\")"
   ]
  },
  {
   "cell_type": "code",
   "execution_count": 4,
   "id": "76eef1cb",
   "metadata": {},
   "outputs": [
    {
     "data": {
      "text/plain": [
       "(650, 750, 3)"
      ]
     },
     "execution_count": 4,
     "metadata": {},
     "output_type": "execute_result"
    }
   ],
   "source": [
    "#Motu image's shape\n",
    "img1.shape"
   ]
  },
  {
   "cell_type": "code",
   "execution_count": 5,
   "id": "e855e2ca",
   "metadata": {},
   "outputs": [],
   "source": [
    "cv2.imshow(\"Motu\", img1)\n",
    "cv2.waitKey()\n",
    "cv2.destroyAllWindows()"
   ]
  },
  {
   "cell_type": "code",
   "execution_count": 6,
   "id": "6aa5d3c4",
   "metadata": {},
   "outputs": [
    {
     "data": {
      "text/plain": [
       "(795, 692, 3)"
      ]
     },
     "execution_count": 6,
     "metadata": {},
     "output_type": "execute_result"
    }
   ],
   "source": [
    "#Patlu image's shape\n",
    "img2.shape"
   ]
  },
  {
   "cell_type": "code",
   "execution_count": 7,
   "id": "d4855694",
   "metadata": {},
   "outputs": [],
   "source": [
    "cv2.imshow(\"Patlu\", img2)\n",
    "cv2.waitKey()\n",
    "cv2.destroyAllWindows()"
   ]
  },
  {
   "cell_type": "code",
   "execution_count": 9,
   "id": "5c4c0371",
   "metadata": {},
   "outputs": [],
   "source": [
    "#Face Swapping of Motu-Patlu\n",
    "\n",
    "crop_img2 = img2[58:245 , 250:465] \n",
    "img1[58:245 , 250:465] = crop_img2\n",
    "cv2.imshow(\"MotuPatlu\", img1)\n",
    "cv2.waitKey()\n",
    "cv2.destroyAllWindows()"
   ]
  },
  {
   "cell_type": "code",
   "execution_count": null,
   "id": "c4dbbfb6",
   "metadata": {},
   "outputs": [],
   "source": []
  }
 ],
 "metadata": {
  "kernelspec": {
   "display_name": "Python 3",
   "language": "python",
   "name": "python3"
  },
  "language_info": {
   "codemirror_mode": {
    "name": "ipython",
    "version": 3
   },
   "file_extension": ".py",
   "mimetype": "text/x-python",
   "name": "python",
   "nbconvert_exporter": "python",
   "pygments_lexer": "ipython3",
   "version": "3.8.8"
  }
 },
 "nbformat": 4,
 "nbformat_minor": 5
}
